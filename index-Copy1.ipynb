{
 "cells": [
  {
   "cell_type": "code",
   "execution_count": null,
   "id": "f2d0f138",
   "metadata": {},
   "outputs": [],
   "source": [
    "#PRIMERO: Se leen las carpetas de los paises, la hidrografia y las ciudades que estan dentro de la carpeta mapas"
   ]
  },
  {
   "cell_type": "code",
   "execution_count": null,
   "id": "d0cb0e6c",
   "metadata": {
    "scrolled": false
   },
   "outputs": [],
   "source": [
    "#!pip install geopandas"
   ]
  },
  {
   "cell_type": "code",
   "execution_count": null,
   "id": "fe4030a5",
   "metadata": {},
   "outputs": [],
   "source": [
    "#!pip install fiona"
   ]
  },
  {
   "cell_type": "code",
   "execution_count": 1,
   "id": "309cd757",
   "metadata": {},
   "outputs": [],
   "source": [
    "import os, geopandas as gpd\n",
    "\n",
    "countries=gpd.read_file(os.path.join(\"maps\",\"World_Countries\",\"World_Countries.shp\"))\n",
    "rivers=gpd.read_file(os.path.join(\"maps\",\"World_Hydrography\",\"World_Hydrography.shp\"))\n",
    "cities=gpd.read_file(os.path.join(\"maps\",\"World_Cities\",\"World_Cities.shp\"))"
   ]
  },
  {
   "cell_type": "code",
   "execution_count": 2,
   "id": "c3b91245",
   "metadata": {},
   "outputs": [],
   "source": [
    "#SEGUNDO: Se llama al GeoDataFrame contries para hacer uso de la libreria pandas"
   ]
  },
  {
   "cell_type": "code",
   "execution_count": 3,
   "id": "0c5de7a1",
   "metadata": {},
   "outputs": [
    {
     "data": {
      "text/plain": [
       "geopandas.geodataframe.GeoDataFrame"
      ]
     },
     "execution_count": 3,
     "metadata": {},
     "output_type": "execute_result"
    }
   ],
   "source": [
    "type(countries)"
   ]
  },
  {
   "cell_type": "code",
   "execution_count": 4,
   "id": "3ed4bcce",
   "metadata": {},
   "outputs": [],
   "source": [
    "#TERCERO: Se elige un pais, en este caso: Alemania"
   ]
  },
  {
   "cell_type": "code",
   "execution_count": 5,
   "id": "59ebd8a4",
   "metadata": {},
   "outputs": [],
   "source": [
    "alemania=countries[countries.COUNTRY=='Germany']"
   ]
  },
  {
   "cell_type": "code",
   "execution_count": 6,
   "id": "e5e1c88c",
   "metadata": {},
   "outputs": [],
   "source": [
    "#CUARTO: Se plotea el mapa de Alemania y se configura el estilo de la imagen"
   ]
  },
  {
   "cell_type": "code",
   "execution_count": 7,
   "id": "bdcfea3b",
   "metadata": {},
   "outputs": [],
   "source": [
    "    # Antes de plotear el mapa se verifica que posean el mismo sistema de proyeccion CRS"
   ]
  },
  {
   "cell_type": "code",
   "execution_count": 8,
   "id": "cabd654a",
   "metadata": {},
   "outputs": [
    {
     "data": {
      "text/plain": [
       "<Geographic 2D CRS: EPSG:4326>\n",
       "Name: WGS 84\n",
       "Axis Info [ellipsoidal]:\n",
       "- Lat[north]: Geodetic latitude (degree)\n",
       "- Lon[east]: Geodetic longitude (degree)\n",
       "Area of Use:\n",
       "- name: World\n",
       "- bounds: (-180.0, -90.0, 180.0, 90.0)\n",
       "Datum: World Geodetic System 1984\n",
       "- Ellipsoid: WGS 84\n",
       "- Prime Meridian: Greenwich"
      ]
     },
     "execution_count": 8,
     "metadata": {},
     "output_type": "execute_result"
    }
   ],
   "source": [
    "countries.crs"
   ]
  },
  {
   "cell_type": "code",
   "execution_count": 9,
   "id": "b72d57c3",
   "metadata": {},
   "outputs": [],
   "source": [
    "cities=cities.to_crs(countries.crs)\n",
    "rivers=rivers.to_crs(countries.crs)"
   ]
  },
  {
   "cell_type": "code",
   "execution_count": 10,
   "id": "e0dc74ac",
   "metadata": {},
   "outputs": [],
   "source": [
    "    #Ahora si se muestra a Alemania"
   ]
  },
  {
   "cell_type": "code",
   "execution_count": 11,
   "id": "6824b60c",
   "metadata": {},
   "outputs": [
    {
     "data": {
      "text/plain": [
       "<Axes: >"
      ]
     },
     "execution_count": 11,
     "metadata": {},
     "output_type": "execute_result"
    },
    {
     "data": {
      "image/png": "[encoded data removed]",
      "text/plain": [
       "<Figure size 640x480 with 1 Axes>"
      ]
     },
     "metadata": {},
     "output_type": "display_data"
    }
   ],
   "source": [
    "alemania.plot() "
   ]
  },
  {
   "cell_type": "code",
   "execution_count": 12,
   "id": "a54cbf6a",
   "metadata": {},
   "outputs": [],
   "source": [
    "#QUINTO: Se muestra el numero y nombre de las ciudades en Alemania"
   ]
  },
  {
   "cell_type": "code",
   "execution_count": 13,
   "id": "8874f8eb",
   "metadata": {},
   "outputs": [],
   "source": [
    "cities=cities.to_crs(countries.crs)"
   ]
  },
  {
   "cell_type": "code",
   "execution_count": 14,
   "id": "de3176a2",
   "metadata": {},
   "outputs": [
    {
     "data": {
      "text/plain": [
       "(12, 4)"
      ]
     },
     "execution_count": 14,
     "metadata": {},
     "output_type": "execute_result"
    }
   ],
   "source": [
    "cities_alemania=cities[cities.COUNTRY=='Germany']\n",
    "cities_alemania.shape\n"
   ]
  },
  {
   "cell_type": "code",
   "execution_count": 15,
   "id": "00bd4a99",
   "metadata": {},
   "outputs": [
    {
     "data": {
      "text/html": [
       "<div>\n",
       "<style scoped>\n",
       "    .dataframe tbody tr th:only-of-type {\n",
       "        vertical-align: middle;\n",
       "    }\n",
       "\n",
       "    .dataframe tbody tr th {\n",
       "        vertical-align: top;\n",
       "    }\n",
       "\n",
       "    .dataframe thead th {\n",
       "        text-align: right;\n",
       "    }\n",
       "</style>\n",
       "<table border=\"1\" class=\"dataframe\">\n",
       "  <thead>\n",
       "    <tr style=\"text-align: right;\">\n",
       "      <th></th>\n",
       "      <th>NAME</th>\n",
       "      <th>COUNTRY</th>\n",
       "      <th>CAPITAL</th>\n",
       "      <th>geometry</th>\n",
       "    </tr>\n",
       "  </thead>\n",
       "  <tbody>\n",
       "    <tr>\n",
       "      <th>18</th>\n",
       "      <td>Hamburg</td>\n",
       "      <td>Germany</td>\n",
       "      <td>N</td>\n",
       "      <td>POINT (10.02761 53.57112)</td>\n",
       "    </tr>\n",
       "    <tr>\n",
       "      <th>23</th>\n",
       "      <td>Bremen</td>\n",
       "      <td>Germany</td>\n",
       "      <td>N</td>\n",
       "      <td>POINT (8.85763 53.08010)</td>\n",
       "    </tr>\n",
       "    <tr>\n",
       "      <th>24</th>\n",
       "      <td>Berlin</td>\n",
       "      <td>Germany</td>\n",
       "      <td>Y</td>\n",
       "      <td>POINT (13.32757 52.51627)</td>\n",
       "    </tr>\n",
       "    <tr>\n",
       "      <th>31</th>\n",
       "      <td>Dortmund</td>\n",
       "      <td>Germany</td>\n",
       "      <td>N</td>\n",
       "      <td>POINT (7.46642 51.51381)</td>\n",
       "    </tr>\n",
       "    <tr>\n",
       "      <th>32</th>\n",
       "      <td>Duisburg</td>\n",
       "      <td>Germany</td>\n",
       "      <td>N</td>\n",
       "      <td>POINT (6.77530 51.48934)</td>\n",
       "    </tr>\n",
       "  </tbody>\n",
       "</table>\n",
       "</div>"
      ],
      "text/plain": [
       "        NAME  COUNTRY CAPITAL                   geometry\n",
       "18   Hamburg  Germany       N  POINT (10.02761 53.57112)\n",
       "23    Bremen  Germany       N   POINT (8.85763 53.08010)\n",
       "24    Berlin  Germany       Y  POINT (13.32757 52.51627)\n",
       "31  Dortmund  Germany       N   POINT (7.46642 51.51381)\n",
       "32  Duisburg  Germany       N   POINT (6.77530 51.48934)"
      ]
     },
     "execution_count": 15,
     "metadata": {},
     "output_type": "execute_result"
    }
   ],
   "source": [
    "cities_alemania.head()"
   ]
  },
  {
   "cell_type": "code",
   "execution_count": 16,
   "id": "d2215975",
   "metadata": {},
   "outputs": [],
   "source": [
    "#SEXTO: Se plotean las ciudades de Alemania"
   ]
  },
  {
   "cell_type": "code",
   "execution_count": 17,
   "id": "fc61cab1",
   "metadata": {},
   "outputs": [
    {
     "data": {
      "text/plain": [
       "<Axes: >"
      ]
     },
     "execution_count": 17,
     "metadata": {},
     "output_type": "execute_result"
    },
    {
     "data": {
      "image/png": "[encoded data removed]",
      "text/plain": [
       "<Figure size 640x480 with 1 Axes>"
      ]
     },
     "metadata": {},
     "output_type": "display_data"
    }
   ],
   "source": [
    "cities_alemania=cities[cities.COUNTRY=='Germany']\n",
    "cities_alemania.plot()"
   ]
  },
  {
   "cell_type": "code",
   "execution_count": 18,
   "id": "d6fe381f",
   "metadata": {},
   "outputs": [],
   "source": [
    "#SETIMO: Se muestra el numero y nombres de los rios de Alemania"
   ]
  },
  {
   "cell_type": "code",
   "execution_count": 19,
   "id": "929b19bf",
   "metadata": {},
   "outputs": [
    {
     "data": {
      "text/plain": [
       "(2, 3)"
      ]
     },
     "execution_count": 19,
     "metadata": {},
     "output_type": "execute_result"
    }
   ],
   "source": [
    "rivers_alemania = gpd.clip(gdf=rivers,mask=alemania)\n",
    "rivers_alemania.shape"
   ]
  },
  {
   "cell_type": "code",
   "execution_count": 20,
   "id": "1a831a57",
   "metadata": {},
   "outputs": [
    {
     "data": {
      "text/html": [
       "<div>\n",
       "<style scoped>\n",
       "    .dataframe tbody tr th:only-of-type {\n",
       "        vertical-align: middle;\n",
       "    }\n",
       "\n",
       "    .dataframe tbody tr th {\n",
       "        vertical-align: top;\n",
       "    }\n",
       "\n",
       "    .dataframe thead th {\n",
       "        text-align: right;\n",
       "    }\n",
       "</style>\n",
       "<table border=\"1\" class=\"dataframe\">\n",
       "  <thead>\n",
       "    <tr style=\"text-align: right;\">\n",
       "      <th></th>\n",
       "      <th>NAME</th>\n",
       "      <th>SYSTEM</th>\n",
       "      <th>geometry</th>\n",
       "    </tr>\n",
       "  </thead>\n",
       "  <tbody>\n",
       "    <tr>\n",
       "      <th>14</th>\n",
       "      <td>Danube</td>\n",
       "      <td>None</td>\n",
       "      <td>MULTILINESTRING ((8.73734 47.99981, 9.56016 48...</td>\n",
       "    </tr>\n",
       "    <tr>\n",
       "      <th>61</th>\n",
       "      <td>Rhine</td>\n",
       "      <td>None</td>\n",
       "      <td>MULTILINESTRING ((6.42693 51.85182, 6.88766 51...</td>\n",
       "    </tr>\n",
       "  </tbody>\n",
       "</table>\n",
       "</div>"
      ],
      "text/plain": [
       "      NAME SYSTEM                                           geometry\n",
       "14  Danube   None  MULTILINESTRING ((8.73734 47.99981, 9.56016 48...\n",
       "61   Rhine   None  MULTILINESTRING ((6.42693 51.85182, 6.88766 51..."
      ]
     },
     "execution_count": 20,
     "metadata": {},
     "output_type": "execute_result"
    }
   ],
   "source": [
    "rivers_alemania.head()"
   ]
  },
  {
   "cell_type": "code",
   "execution_count": 21,
   "id": "5a2689d4",
   "metadata": {},
   "outputs": [],
   "source": [
    "#OCTAVO: Se plotean los rios de Alemania"
   ]
  },
  {
   "cell_type": "code",
   "execution_count": 22,
   "id": "5ffd10f8",
   "metadata": {},
   "outputs": [
    {
     "data": {
      "text/plain": [
       "<Axes: >"
      ]
     },
     "execution_count": 22,
     "metadata": {},
     "output_type": "execute_result"
    },
    {
     "data": {
      "image/png": "[encoded data removed]",
      "text/plain": [
       "<Figure size 640x480 with 1 Axes>"
      ]
     },
     "metadata": {},
     "output_type": "display_data"
    }
   ],
   "source": [
    "rivers_alemania = gpd.clip(gdf=rivers,mask=alemania)\n",
    "rivers_alemania.plot()"
   ]
  },
  {
   "cell_type": "code",
   "execution_count": 23,
   "id": "e3771686",
   "metadata": {},
   "outputs": [],
   "source": [
    "#NOVENO: Se plotean las 3 capas anteriores en una sola figura"
   ]
  },
  {
   "cell_type": "code",
   "execution_count": 24,
   "id": "3348e1f7",
   "metadata": {},
   "outputs": [
    {
     "data": {
      "text/plain": [
       "<Axes: >"
      ]
     },
     "execution_count": 24,
     "metadata": {},
     "output_type": "execute_result"
    },
    {
     "data": {
      "image/png": "[encoded data removed]",
      "text/plain": [
       "<Figure size 500x500 with 1 Axes>"
      ]
     },
     "metadata": {},
     "output_type": "display_data"
    }
   ],
   "source": [
    "base = alemania.plot(facecolor=\"greenyellow\", edgecolor='black', linewidth=0.4,figsize=(5,5))\n",
    "cities_alemania.plot(marker='+', color='red', markersize=15,ax=base)\n",
    "rivers_alemania.plot(edgecolor='blue', linewidth=0.5,ax=base)"
   ]
  },
  {
   "cell_type": "code",
   "execution_count": 25,
   "id": "f8d49760",
   "metadata": {},
   "outputs": [],
   "source": [
    "#DECIMO: Se localiza el pais en el mapa mundia a traves de las cordenadas"
   ]
  },
  {
   "cell_type": "code",
   "execution_count": 26,
   "id": "51346c40",
   "metadata": {},
   "outputs": [],
   "source": [
    "    # Se establecen las cordenadas obtenidas del web: https://www.geodatos.net/en/coordinates:"
   ]
  },
  {
   "cell_type": "code",
   "execution_count": 27,
   "id": "96ed0db1",
   "metadata": {},
   "outputs": [],
   "source": [
    "alemaniaCoord=[51.165691, 10.451526]"
   ]
  },
  {
   "cell_type": "code",
   "execution_count": 28,
   "id": "8cb28f11",
   "metadata": {},
   "outputs": [
    {
     "data": {
      "text/html": [
       "<div style=\"width:100%;\"><div style=\"position:relative;width:100%;height:0;padding-bottom:60%;\"><span style=\"color:#565656\">Make this Notebook Trusted to load map: File -> Trust Notebook</span><iframe srcdoc=\"&lt;!DOCTYPE html&gt;\n",
       "&lt;html&gt;\n",
       "&lt;head&gt;\n",
       "    \n",
       "    &lt;meta http-equiv=&quot;content-type&quot; content=&quot;text/html; charset=UTF-8&quot; /&gt;\n",
       "    \n",
       "        &lt;script&gt;\n",
       "            L_NO_TOUCH = false;\n",
       "            L_DISABLE_3D = false;\n",
       "        &lt;/script&gt;\n",
       "    \n",
       "    &lt;style&gt;html, body {width: 100%;height: 100%;margin: 0;padding: 0;}&lt;/style&gt;\n",
       "    &lt;style&gt;#map {position:absolute;top:0;bottom:0;right:0;left:0;}&lt;/style&gt;\n",
       "    &lt;script src=&quot;https://cdn.jsdelivr.net/npm/leaflet@1.9.3/dist/leaflet.js&quot;&gt;&lt;/script&gt;\n",
       "    &lt;script src=&quot;https://code.jquery.com/jquery-1.12.4.min.js&quot;&gt;&lt;/script&gt;\n",
       "    &lt;script src=&quot;https://cdn.jsdelivr.net/npm/bootstrap@5.2.2/dist/js/bootstrap.bundle.min.js&quot;&gt;&lt;/script&gt;\n",
       "    &lt;script src=&quot;https://cdnjs.cloudflare.com/ajax/libs/Leaflet.awesome-markers/2.0.2/leaflet.awesome-markers.js&quot;&gt;&lt;/script&gt;\n",
       "    &lt;link rel=&quot;stylesheet&quot; href=&quot;https://cdn.jsdelivr.net/npm/leaflet@1.9.3/dist/leaflet.css&quot;/&gt;\n",
       "    &lt;link rel=&quot;stylesheet&quot; href=&quot;https://cdn.jsdelivr.net/npm/bootstrap@5.2.2/dist/css/bootstrap.min.css&quot;/&gt;\n",
       "    &lt;link rel=&quot;stylesheet&quot; href=&quot;https://netdna.bootstrapcdn.com/bootstrap/3.0.0/css/bootstrap.min.css&quot;/&gt;\n",
       "    &lt;link rel=&quot;stylesheet&quot; href=&quot;https://cdn.jsdelivr.net/npm/@fortawesome/fontawesome-free@6.2.0/css/all.min.css&quot;/&gt;\n",
       "    &lt;link rel=&quot;stylesheet&quot; href=&quot;https://cdnjs.cloudflare.com/ajax/libs/Leaflet.awesome-markers/2.0.2/leaflet.awesome-markers.css&quot;/&gt;\n",
       "    &lt;link rel=&quot;stylesheet&quot; href=&quot;https://cdn.jsdelivr.net/gh/python-visualization/folium/folium/templates/leaflet.awesome.rotate.min.css&quot;/&gt;\n",
       "    \n",
       "            &lt;meta name=&quot;viewport&quot; content=&quot;width=device-width,\n",
       "                initial-scale=1.0, maximum-scale=1.0, user-scalable=no&quot; /&gt;\n",
       "            &lt;style&gt;\n",
       "                #map_be0da9ae34686dd9d444aaa854f0beb6 {\n",
       "                    position: relative;\n",
       "                    width: 100.0%;\n",
       "                    height: 100.0%;\n",
       "                    left: 0.0%;\n",
       "                    top: 0.0%;\n",
       "                }\n",
       "                .leaflet-container { font-size: 1rem; }\n",
       "            &lt;/style&gt;\n",
       "        \n",
       "    \n",
       "                    &lt;style&gt;\n",
       "                        .foliumtooltip {\n",
       "                            \n",
       "                        }\n",
       "                       .foliumtooltip table{\n",
       "                            margin: auto;\n",
       "                        }\n",
       "                        .foliumtooltip tr{\n",
       "                            text-align: left;\n",
       "                        }\n",
       "                        .foliumtooltip th{\n",
       "                            padding: 2px; padding-right: 8px;\n",
       "                        }\n",
       "                    &lt;/style&gt;\n",
       "            \n",
       "    \n",
       "                    &lt;style&gt;\n",
       "                        .foliumtooltip {\n",
       "                            \n",
       "                        }\n",
       "                       .foliumtooltip table{\n",
       "                            margin: auto;\n",
       "                        }\n",
       "                        .foliumtooltip tr{\n",
       "                            text-align: left;\n",
       "                        }\n",
       "                        .foliumtooltip th{\n",
       "                            padding: 2px; padding-right: 8px;\n",
       "                        }\n",
       "                    &lt;/style&gt;\n",
       "            \n",
       "&lt;/head&gt;\n",
       "&lt;body&gt;\n",
       "    \n",
       "    \n",
       "            &lt;div class=&quot;folium-map&quot; id=&quot;map_be0da9ae34686dd9d444aaa854f0beb6&quot; &gt;&lt;/div&gt;\n",
       "        \n",
       "&lt;/body&gt;\n",
       "&lt;script&gt;\n",
       "    \n",
       "    \n",
       "            var map_be0da9ae34686dd9d444aaa854f0beb6 = L.map(\n",
       "                &quot;map_be0da9ae34686dd9d444aaa854f0beb6&quot;,\n",
       "                {\n",
       "                    center: [51.165691, 10.451526],\n",
       "                    crs: L.CRS.EPSG3857,\n",
       "                    zoom: 5,\n",
       "                    zoomControl: true,\n",
       "                    preferCanvas: false,\n",
       "                }\n",
       "            );\n",
       "            L.control.scale().addTo(map_be0da9ae34686dd9d444aaa854f0beb6);\n",
       "\n",
       "            \n",
       "\n",
       "        \n",
       "    \n",
       "            var tile_layer_12584bd72dcfa46e6d2b9288a9ef9442 = L.tileLayer(\n",
       "                &quot;https://cartodb-basemaps-{s}.global.ssl.fastly.net/light_all/{z}/{x}/{y}.png&quot;,\n",
       "                {&quot;attribution&quot;: &quot;\\u0026copy; \\u003ca target=\\&quot;_blank\\&quot; href=\\&quot;http://www.openstreetmap.org/copyright\\&quot;\\u003eOpenStreetMap\\u003c/a\\u003e contributors \\u0026copy; \\u003ca target=\\&quot;_blank\\&quot; href=\\&quot;http://cartodb.com/attributions\\&quot;\\u003eCartoDB\\u003c/a\\u003e, CartoDB \\u003ca target=\\&quot;_blank\\&quot; href =\\&quot;http://cartodb.com/attributions\\&quot;\\u003eattributions\\u003c/a\\u003e&quot;, &quot;detectRetina&quot;: false, &quot;maxNativeZoom&quot;: 18, &quot;maxZoom&quot;: 18, &quot;minZoom&quot;: 0, &quot;noWrap&quot;: false, &quot;opacity&quot;: 1, &quot;subdomains&quot;: &quot;abc&quot;, &quot;tms&quot;: false}\n",
       "            ).addTo(map_be0da9ae34686dd9d444aaa854f0beb6);\n",
       "        \n",
       "    \n",
       "        function geo_json_4e4d875bb2a9021e7d1a5d93347ffeab_styler(feature) {\n",
       "            switch(feature.id) {\n",
       "                default:\n",
       "                    return {&quot;color&quot;: &quot;red&quot;, &quot;fillColor&quot;: &quot;red&quot;, &quot;fillOpacity&quot;: 0.5, &quot;weight&quot;: 2};\n",
       "            }\n",
       "        }\n",
       "        function geo_json_4e4d875bb2a9021e7d1a5d93347ffeab_highlighter(feature) {\n",
       "            switch(feature.id) {\n",
       "                default:\n",
       "                    return {&quot;fillOpacity&quot;: 0.75};\n",
       "            }\n",
       "        }\n",
       "        function geo_json_4e4d875bb2a9021e7d1a5d93347ffeab_pointToLayer(feature, latlng) {\n",
       "            var opts = {&quot;bubblingMouseEvents&quot;: true, &quot;color&quot;: &quot;#3388ff&quot;, &quot;dashArray&quot;: null, &quot;dashOffset&quot;: null, &quot;fill&quot;: true, &quot;fillColor&quot;: &quot;#3388ff&quot;, &quot;fillOpacity&quot;: 0.2, &quot;fillRule&quot;: &quot;evenodd&quot;, &quot;lineCap&quot;: &quot;round&quot;, &quot;lineJoin&quot;: &quot;round&quot;, &quot;opacity&quot;: 1.0, &quot;radius&quot;: 2, &quot;stroke&quot;: true, &quot;weight&quot;: 3};\n",
       "            \n",
       "            let style = geo_json_4e4d875bb2a9021e7d1a5d93347ffeab_styler(feature)\n",
       "            Object.assign(opts, style)\n",
       "            \n",
       "            return new L.CircleMarker(latlng, opts)\n",
       "        }\n",
       "\n",
       "        function geo_json_4e4d875bb2a9021e7d1a5d93347ffeab_onEachFeature(feature, layer) {\n",
       "            layer.on({\n",
       "                mouseout: function(e) {\n",
       "                    if(typeof e.target.setStyle === &quot;function&quot;){\n",
       "                        geo_json_4e4d875bb2a9021e7d1a5d93347ffeab.resetStyle(e.target);\n",
       "                    }\n",
       "                },\n",
       "                mouseover: function(e) {\n",
       "                    if(typeof e.target.setStyle === &quot;function&quot;){\n",
       "                        const highlightStyle = geo_json_4e4d875bb2a9021e7d1a5d93347ffeab_highlighter(e.target.feature)\n",
       "                        e.target.setStyle(highlightStyle);\n",
       "                    }\n",
       "                },\n",
       "            });\n",
       "        };\n",
       "        var geo_json_4e4d875bb2a9021e7d1a5d93347ffeab = L.geoJson(null, {\n",
       "                onEachFeature: geo_json_4e4d875bb2a9021e7d1a5d93347ffeab_onEachFeature,\n",
       "            \n",
       "                style: geo_json_4e4d875bb2a9021e7d1a5d93347ffeab_styler,\n",
       "                pointToLayer: geo_json_4e4d875bb2a9021e7d1a5d93347ffeab_pointToLayer\n",
       "        });\n",
       "\n",
       "        function geo_json_4e4d875bb2a9021e7d1a5d93347ffeab_add (data) {\n",
       "            geo_json_4e4d875bb2a9021e7d1a5d93347ffeab\n",
       "                .addData(data)\n",
       "                .addTo(map_be0da9ae34686dd9d444aaa854f0beb6);\n",
       "        }\n",
       "            geo_json_4e4d875bb2a9021e7d1a5d93347ffeab_add({&quot;bbox&quot;: [6.775304317474365, 48.14097595214844, 13.705357551574707, 53.57112121582031], &quot;features&quot;: [{&quot;bbox&quot;: [10.027606010437012, 53.57112121582031, 10.027606010437012, 53.57112121582031], &quot;geometry&quot;: {&quot;coordinates&quot;: [10.027606010437012, 53.57112121582031], &quot;type&quot;: &quot;Point&quot;}, &quot;id&quot;: &quot;18&quot;, &quot;properties&quot;: {&quot;CAPITAL&quot;: &quot;N&quot;, &quot;COUNTRY&quot;: &quot;Germany&quot;, &quot;NAME&quot;: &quot;Hamburg&quot;, &quot;__folium_color&quot;: &quot;red&quot;}, &quot;type&quot;: &quot;Feature&quot;}, {&quot;bbox&quot;: [8.857625961303711, 53.08010482788086, 8.857625961303711, 53.08010482788086], &quot;geometry&quot;: {&quot;coordinates&quot;: [8.857625961303711, 53.08010482788086], &quot;type&quot;: &quot;Point&quot;}, &quot;id&quot;: &quot;23&quot;, &quot;properties&quot;: {&quot;CAPITAL&quot;: &quot;N&quot;, &quot;COUNTRY&quot;: &quot;Germany&quot;, &quot;NAME&quot;: &quot;Bremen&quot;, &quot;__folium_color&quot;: &quot;red&quot;}, &quot;type&quot;: &quot;Feature&quot;}, {&quot;bbox&quot;: [13.3275728225708, 52.516273498535156, 13.3275728225708, 52.516273498535156], &quot;geometry&quot;: {&quot;coordinates&quot;: [13.3275728225708, 52.516273498535156], &quot;type&quot;: &quot;Point&quot;}, &quot;id&quot;: &quot;24&quot;, &quot;properties&quot;: {&quot;CAPITAL&quot;: &quot;Y&quot;, &quot;COUNTRY&quot;: &quot;Germany&quot;, &quot;NAME&quot;: &quot;Berlin&quot;, &quot;__folium_color&quot;: &quot;red&quot;}, &quot;type&quot;: &quot;Feature&quot;}, {&quot;bbox&quot;: [7.466418266296387, 51.51381301879883, 7.466418266296387, 51.51381301879883], &quot;geometry&quot;: {&quot;coordinates&quot;: [7.466418266296387, 51.51381301879883], &quot;type&quot;: &quot;Point&quot;}, &quot;id&quot;: &quot;31&quot;, &quot;properties&quot;: {&quot;CAPITAL&quot;: &quot;N&quot;, &quot;COUNTRY&quot;: &quot;Germany&quot;, &quot;NAME&quot;: &quot;Dortmund&quot;, &quot;__folium_color&quot;: &quot;red&quot;}, &quot;type&quot;: &quot;Feature&quot;}, {&quot;bbox&quot;: [6.775304317474365, 51.48933792114258, 6.775304317474365, 51.48933792114258], &quot;geometry&quot;: {&quot;coordinates&quot;: [6.775304317474365, 51.48933792114258], &quot;type&quot;: &quot;Point&quot;}, &quot;id&quot;: &quot;32&quot;, &quot;properties&quot;: {&quot;CAPITAL&quot;: &quot;N&quot;, &quot;COUNTRY&quot;: &quot;Germany&quot;, &quot;NAME&quot;: &quot;Duisburg&quot;, &quot;__folium_color&quot;: &quot;red&quot;}, &quot;type&quot;: &quot;Feature&quot;}, {&quot;bbox&quot;: [7.122435092926025, 51.354042053222656, 7.122435092926025, 51.354042053222656], &quot;geometry&quot;: {&quot;coordinates&quot;: [7.122435092926025, 51.354042053222656], &quot;type&quot;: &quot;Point&quot;}, &quot;id&quot;: &quot;34&quot;, &quot;properties&quot;: {&quot;CAPITAL&quot;: &quot;N&quot;, &quot;COUNTRY&quot;: &quot;Germany&quot;, &quot;NAME&quot;: &quot;Essen&quot;, &quot;__folium_color&quot;: &quot;red&quot;}, &quot;type&quot;: &quot;Feature&quot;}, {&quot;bbox&quot;: [12.39807415008545, 51.34933090209961, 12.39807415008545, 51.34933090209961], &quot;geometry&quot;: {&quot;coordinates&quot;: [12.39807415008545, 51.34933090209961], &quot;type&quot;: &quot;Point&quot;}, &quot;id&quot;: &quot;35&quot;, &quot;properties&quot;: {&quot;CAPITAL&quot;: &quot;N&quot;, &quot;COUNTRY&quot;: &quot;Germany&quot;, &quot;NAME&quot;: &quot;Leipzig&quot;, &quot;__folium_color&quot;: &quot;red&quot;}, &quot;type&quot;: &quot;Feature&quot;}, {&quot;bbox&quot;: [13.705357551574707, 51.04568099975586, 13.705357551574707, 51.04568099975586], &quot;geometry&quot;: {&quot;coordinates&quot;: [13.705357551574707, 51.04568099975586], &quot;type&quot;: &quot;Point&quot;}, &quot;id&quot;: &quot;39&quot;, &quot;properties&quot;: {&quot;CAPITAL&quot;: &quot;N&quot;, &quot;COUNTRY&quot;: &quot;Germany&quot;, &quot;NAME&quot;: &quot;Dresden&quot;, &quot;__folium_color&quot;: &quot;red&quot;}, &quot;type&quot;: &quot;Feature&quot;}, {&quot;bbox&quot;: [6.934871673583984, 50.942344665527344, 6.934871673583984, 50.942344665527344], &quot;geometry&quot;: {&quot;coordinates&quot;: [6.934871673583984, 50.942344665527344], &quot;type&quot;: &quot;Point&quot;}, &quot;id&quot;: &quot;41&quot;, &quot;properties&quot;: {&quot;CAPITAL&quot;: &quot;N&quot;, &quot;COUNTRY&quot;: &quot;Germany&quot;, &quot;NAME&quot;: &quot;Koln&quot;, &quot;__folium_color&quot;: &quot;red&quot;}, &quot;type&quot;: &quot;Feature&quot;}, {&quot;bbox&quot;: [7.099818706512451, 50.73455810546875, 7.099818706512451, 50.73455810546875], &quot;geometry&quot;: {&quot;coordinates&quot;: [7.099818706512451, 50.73455810546875], &quot;type&quot;: &quot;Point&quot;}, &quot;id&quot;: &quot;43&quot;, &quot;properties&quot;: {&quot;CAPITAL&quot;: &quot;N&quot;, &quot;COUNTRY&quot;: &quot;Germany&quot;, &quot;NAME&quot;: &quot;Bonn&quot;, &quot;__folium_color&quot;: &quot;red&quot;}, &quot;type&quot;: &quot;Feature&quot;}, {&quot;bbox&quot;: [8.668167114257812, 50.12999725341797, 8.668167114257812, 50.12999725341797], &quot;geometry&quot;: {&quot;coordinates&quot;: [8.668167114257812, 50.12999725341797], &quot;type&quot;: &quot;Point&quot;}, &quot;id&quot;: &quot;47&quot;, &quot;properties&quot;: {&quot;CAPITAL&quot;: &quot;N&quot;, &quot;COUNTRY&quot;: &quot;Germany&quot;, &quot;NAME&quot;: &quot;Frankfurt am Main&quot;, &quot;__folium_color&quot;: &quot;red&quot;}, &quot;type&quot;: &quot;Feature&quot;}, {&quot;bbox&quot;: [11.542953491210938, 48.14097595214844, 11.542953491210938, 48.14097595214844], &quot;geometry&quot;: {&quot;coordinates&quot;: [11.542953491210938, 48.14097595214844], &quot;type&quot;: &quot;Point&quot;}, &quot;id&quot;: &quot;59&quot;, &quot;properties&quot;: {&quot;CAPITAL&quot;: &quot;N&quot;, &quot;COUNTRY&quot;: &quot;Germany&quot;, &quot;NAME&quot;: &quot;Munchen&quot;, &quot;__folium_color&quot;: &quot;red&quot;}, &quot;type&quot;: &quot;Feature&quot;}], &quot;type&quot;: &quot;FeatureCollection&quot;});\n",
       "\n",
       "        \n",
       "    \n",
       "    geo_json_4e4d875bb2a9021e7d1a5d93347ffeab.bindTooltip(\n",
       "    function(layer){\n",
       "    let div = L.DomUtil.create(&#x27;div&#x27;);\n",
       "    \n",
       "    let handleObject = feature=&gt;typeof(feature)==&#x27;object&#x27; ? JSON.stringify(feature) : feature;\n",
       "    let fields = [&quot;NAME&quot;, &quot;COUNTRY&quot;, &quot;CAPITAL&quot;];\n",
       "    let aliases = [&quot;NAME&quot;, &quot;COUNTRY&quot;, &quot;CAPITAL&quot;];\n",
       "    let table = &#x27;&lt;table&gt;&#x27; +\n",
       "        String(\n",
       "        fields.map(\n",
       "        (v,i)=&gt;\n",
       "        `&lt;tr&gt;\n",
       "            &lt;th&gt;${aliases[i]}&lt;/th&gt;\n",
       "            \n",
       "            &lt;td&gt;${handleObject(layer.feature.properties[v])}&lt;/td&gt;\n",
       "        &lt;/tr&gt;`).join(&#x27;&#x27;))\n",
       "    +&#x27;&lt;/table&gt;&#x27;;\n",
       "    div.innerHTML=table;\n",
       "    \n",
       "    return div\n",
       "    }\n",
       "    ,{&quot;className&quot;: &quot;foliumtooltip&quot;, &quot;sticky&quot;: true});\n",
       "                     \n",
       "    \n",
       "        function geo_json_d69ee8d338c96f07640fa8c73bd0c22d_styler(feature) {\n",
       "            switch(feature.id) {\n",
       "                default:\n",
       "                    return {&quot;color&quot;: &quot;blue&quot;, &quot;fillColor&quot;: &quot;blue&quot;, &quot;fillOpacity&quot;: 0.5, &quot;weight&quot;: 2};\n",
       "            }\n",
       "        }\n",
       "        function geo_json_d69ee8d338c96f07640fa8c73bd0c22d_highlighter(feature) {\n",
       "            switch(feature.id) {\n",
       "                default:\n",
       "                    return {&quot;fillOpacity&quot;: 0.75};\n",
       "            }\n",
       "        }\n",
       "        function geo_json_d69ee8d338c96f07640fa8c73bd0c22d_pointToLayer(feature, latlng) {\n",
       "            var opts = {&quot;bubblingMouseEvents&quot;: true, &quot;color&quot;: &quot;#3388ff&quot;, &quot;dashArray&quot;: null, &quot;dashOffset&quot;: null, &quot;fill&quot;: true, &quot;fillColor&quot;: &quot;#3388ff&quot;, &quot;fillOpacity&quot;: 0.2, &quot;fillRule&quot;: &quot;evenodd&quot;, &quot;lineCap&quot;: &quot;round&quot;, &quot;lineJoin&quot;: &quot;round&quot;, &quot;opacity&quot;: 1.0, &quot;radius&quot;: 2, &quot;stroke&quot;: true, &quot;weight&quot;: 3};\n",
       "            \n",
       "            let style = geo_json_d69ee8d338c96f07640fa8c73bd0c22d_styler(feature)\n",
       "            Object.assign(opts, style)\n",
       "            \n",
       "            return new L.CircleMarker(latlng, opts)\n",
       "        }\n",
       "\n",
       "        function geo_json_d69ee8d338c96f07640fa8c73bd0c22d_onEachFeature(feature, layer) {\n",
       "            layer.on({\n",
       "                mouseout: function(e) {\n",
       "                    if(typeof e.target.setStyle === &quot;function&quot;){\n",
       "                        geo_json_d69ee8d338c96f07640fa8c73bd0c22d.resetStyle(e.target);\n",
       "                    }\n",
       "                },\n",
       "                mouseover: function(e) {\n",
       "                    if(typeof e.target.setStyle === &quot;function&quot;){\n",
       "                        const highlightStyle = geo_json_d69ee8d338c96f07640fa8c73bd0c22d_highlighter(e.target.feature)\n",
       "                        e.target.setStyle(highlightStyle);\n",
       "                    }\n",
       "                },\n",
       "            });\n",
       "        };\n",
       "        var geo_json_d69ee8d338c96f07640fa8c73bd0c22d = L.geoJson(null, {\n",
       "                onEachFeature: geo_json_d69ee8d338c96f07640fa8c73bd0c22d_onEachFeature,\n",
       "            \n",
       "                style: geo_json_d69ee8d338c96f07640fa8c73bd0c22d_styler,\n",
       "                pointToLayer: geo_json_d69ee8d338c96f07640fa8c73bd0c22d_pointToLayer\n",
       "        });\n",
       "\n",
       "        function geo_json_d69ee8d338c96f07640fa8c73bd0c22d_add (data) {\n",
       "            geo_json_d69ee8d338c96f07640fa8c73bd0c22d\n",
       "                .addData(data)\n",
       "                .addTo(map_be0da9ae34686dd9d444aaa854f0beb6);\n",
       "        }\n",
       "            geo_json_d69ee8d338c96f07640fa8c73bd0c22d_add({&quot;bbox&quot;: [6.426934544082183, 47.5383765269129, 13.801372678942556, 51.85182439967664], &quot;features&quot;: [{&quot;bbox&quot;: [8.38960075378418, 47.99980545043945, 13.801372678942556, 49.08389663696289], &quot;geometry&quot;: {&quot;coordinates&quot;: [[[8.737342834472656, 47.99980545043945], [9.560155868530273, 48.13118362426758], [11.070987701416016, 48.79256820678711], [11.954597473144531, 48.89090347290039], [12.243537902832031, 49.08389663696289], [13.801372678942556, 48.580584777829834]], [[8.505426406860352, 48.180355072021484], [8.737342834472656, 47.99980545043945]], [[8.38960075378418, 48.14701461791992], [8.737342834472656, 47.99980545043945]]], &quot;type&quot;: &quot;MultiLineString&quot;}, &quot;id&quot;: &quot;14&quot;, &quot;properties&quot;: {&quot;NAME&quot;: &quot;Danube&quot;, &quot;SYSTEM&quot;: null, &quot;__folium_color&quot;: &quot;blue&quot;}, &quot;type&quot;: &quot;Feature&quot;}, {&quot;bbox&quot;: [6.426934544082183, 47.5383765269129, 9.723279631032092, 51.85182439967664], &quot;geometry&quot;: {&quot;coordinates&quot;: [[[6.426934544082183, 51.85182439967664], [6.887657642364502, 51.637020111083984], [6.867930889129639, 51.41591262817383], [7.1901535987854, 50.90896224975586], [7.822350025177002, 50.44651412963867], [7.934040546417236, 50.175907135009766], [8.431541442871094, 50.09507369995117], [8.685708999633789, 49.82979202270508], [8.567647933959961, 49.73896408081055], [8.696542739868164, 49.352848052978516], [8.362061500549316, 48.99561309814453], [7.932741641998291, 48.632591247558594], [7.908243179321289, 48.53654861450195], [7.88430643081665, 48.37549591064453], [7.739692211151123, 48.208309173583984], [7.7058000564575195, 48.07524490356445], [7.746782302856445, 48.041202545166016], [7.649627208709717, 47.725765228271484], [7.710245609283447, 47.62067794799805], [7.832072734832764, 47.580501556396484], [7.954710483551025, 47.63303756713867], [8.076324462890625, 47.58977127075195], [8.331659317016602, 47.66085433959961], [8.4567232131958, 47.61140823364258], [8.4827144767919, 47.61292170733213]], [[8.563173996612655, 47.61760687263285], [8.604201841369111, 47.619995927837806]], [[8.60901336938853, 47.628388887021444], [8.573679921754996, 47.667869401649185]], [[8.725218016868913, 47.763608390959554], [8.854499816894531, 47.79996109008789], [8.862229347229004, 47.7319450378418], [8.951669692993164, 47.738136291503906], [9.019049644470215, 47.69794464111328], [9.4022216796875, 47.69485855102539], [9.700788497924805, 47.57741165161133], [9.723279631032092, 47.5383765269129]]], &quot;type&quot;: &quot;MultiLineString&quot;}, &quot;id&quot;: &quot;61&quot;, &quot;properties&quot;: {&quot;NAME&quot;: &quot;Rhine&quot;, &quot;SYSTEM&quot;: null, &quot;__folium_color&quot;: &quot;blue&quot;}, &quot;type&quot;: &quot;Feature&quot;}], &quot;type&quot;: &quot;FeatureCollection&quot;});\n",
       "\n",
       "        \n",
       "    \n",
       "    geo_json_d69ee8d338c96f07640fa8c73bd0c22d.bindTooltip(\n",
       "    function(layer){\n",
       "    let div = L.DomUtil.create(&#x27;div&#x27;);\n",
       "    \n",
       "    let handleObject = feature=&gt;typeof(feature)==&#x27;object&#x27; ? JSON.stringify(feature) : feature;\n",
       "    let fields = [&quot;NAME&quot;, &quot;SYSTEM&quot;];\n",
       "    let aliases = [&quot;NAME&quot;, &quot;SYSTEM&quot;];\n",
       "    let table = &#x27;&lt;table&gt;&#x27; +\n",
       "        String(\n",
       "        fields.map(\n",
       "        (v,i)=&gt;\n",
       "        `&lt;tr&gt;\n",
       "            &lt;th&gt;${aliases[i]}&lt;/th&gt;\n",
       "            \n",
       "            &lt;td&gt;${handleObject(layer.feature.properties[v])}&lt;/td&gt;\n",
       "        &lt;/tr&gt;`).join(&#x27;&#x27;))\n",
       "    +&#x27;&lt;/table&gt;&#x27;;\n",
       "    div.innerHTML=table;\n",
       "    \n",
       "    return div\n",
       "    }\n",
       "    ,{&quot;className&quot;: &quot;foliumtooltip&quot;, &quot;sticky&quot;: true});\n",
       "                     \n",
       "&lt;/script&gt;\n",
       "&lt;/html&gt;\" style=\"position:absolute;width:100%;height:100%;left:0;top:0;border:none !important;\" allowfullscreen webkitallowfullscreen mozallowfullscreen></iframe></div></div>"
      ],
      "text/plain": [
       "<folium.folium.Map at 0x255408fd2b0>"
      ]
     },
     "execution_count": 28,
     "metadata": {},
     "output_type": "execute_result"
    }
   ],
   "source": [
    "m = cities_alemania.explore(location=alemaniaCoord,\n",
    "                   zoom_start=5,#zoom\n",
    "                   tiles='CartoDB positron',\n",
    "                   color='red',\n",
    "                   name=\"cities\") \n",
    "m = rivers_alemania.explore(m=m, color=\"blue\",\n",
    "                   name=\"rivers\")\n",
    "m"
   ]
  },
  {
   "cell_type": "code",
   "execution_count": 29,
   "id": "36c5fdb3",
   "metadata": {},
   "outputs": [],
   "source": [
    "    # Ahora veamos el mismo mapa de manera interactiva utilizando capas"
   ]
  },
  {
   "cell_type": "code",
   "execution_count": 30,
   "id": "9e0bcf37",
   "metadata": {},
   "outputs": [
    {
     "data": {
      "text/html": [
       "<div style=\"width:100%;\"><div style=\"position:relative;width:100%;height:0;padding-bottom:60%;\"><span style=\"color:#565656\">Make this Notebook Trusted to load map: File -> Trust Notebook</span><iframe srcdoc=\"&lt;!DOCTYPE html&gt;\n",
       "&lt;html&gt;\n",
       "&lt;head&gt;\n",
       "    \n",
       "    &lt;meta http-equiv=&quot;content-type&quot; content=&quot;text/html; charset=UTF-8&quot; /&gt;\n",
       "    \n",
       "        &lt;script&gt;\n",
       "            L_NO_TOUCH = false;\n",
       "            L_DISABLE_3D = false;\n",
       "        &lt;/script&gt;\n",
       "    \n",
       "    &lt;style&gt;html, body {width: 100%;height: 100%;margin: 0;padding: 0;}&lt;/style&gt;\n",
       "    &lt;style&gt;#map {position:absolute;top:0;bottom:0;right:0;left:0;}&lt;/style&gt;\n",
       "    &lt;script src=&quot;https://cdn.jsdelivr.net/npm/leaflet@1.9.3/dist/leaflet.js&quot;&gt;&lt;/script&gt;\n",
       "    &lt;script src=&quot;https://code.jquery.com/jquery-1.12.4.min.js&quot;&gt;&lt;/script&gt;\n",
       "    &lt;script src=&quot;https://cdn.jsdelivr.net/npm/bootstrap@5.2.2/dist/js/bootstrap.bundle.min.js&quot;&gt;&lt;/script&gt;\n",
       "    &lt;script src=&quot;https://cdnjs.cloudflare.com/ajax/libs/Leaflet.awesome-markers/2.0.2/leaflet.awesome-markers.js&quot;&gt;&lt;/script&gt;\n",
       "    &lt;link rel=&quot;stylesheet&quot; href=&quot;https://cdn.jsdelivr.net/npm/leaflet@1.9.3/dist/leaflet.css&quot;/&gt;\n",
       "    &lt;link rel=&quot;stylesheet&quot; href=&quot;https://cdn.jsdelivr.net/npm/bootstrap@5.2.2/dist/css/bootstrap.min.css&quot;/&gt;\n",
       "    &lt;link rel=&quot;stylesheet&quot; href=&quot;https://netdna.bootstrapcdn.com/bootstrap/3.0.0/css/bootstrap.min.css&quot;/&gt;\n",
       "    &lt;link rel=&quot;stylesheet&quot; href=&quot;https://cdn.jsdelivr.net/npm/@fortawesome/fontawesome-free@6.2.0/css/all.min.css&quot;/&gt;\n",
       "    &lt;link rel=&quot;stylesheet&quot; href=&quot;https://cdnjs.cloudflare.com/ajax/libs/Leaflet.awesome-markers/2.0.2/leaflet.awesome-markers.css&quot;/&gt;\n",
       "    &lt;link rel=&quot;stylesheet&quot; href=&quot;https://cdn.jsdelivr.net/gh/python-visualization/folium/folium/templates/leaflet.awesome.rotate.min.css&quot;/&gt;\n",
       "    \n",
       "            &lt;meta name=&quot;viewport&quot; content=&quot;width=device-width,\n",
       "                initial-scale=1.0, maximum-scale=1.0, user-scalable=no&quot; /&gt;\n",
       "            &lt;style&gt;\n",
       "                #map_b64a916ee89d90ac32b1e9f36d2a6c80 {\n",
       "                    position: relative;\n",
       "                    width: 100.0%;\n",
       "                    height: 100.0%;\n",
       "                    left: 0.0%;\n",
       "                    top: 0.0%;\n",
       "                }\n",
       "                .leaflet-container { font-size: 1rem; }\n",
       "            &lt;/style&gt;\n",
       "        \n",
       "    \n",
       "                    &lt;style&gt;\n",
       "                        .foliumtooltip {\n",
       "                            \n",
       "                        }\n",
       "                       .foliumtooltip table{\n",
       "                            margin: auto;\n",
       "                        }\n",
       "                        .foliumtooltip tr{\n",
       "                            text-align: left;\n",
       "                        }\n",
       "                        .foliumtooltip th{\n",
       "                            padding: 2px; padding-right: 8px;\n",
       "                        }\n",
       "                    &lt;/style&gt;\n",
       "            \n",
       "    \n",
       "                    &lt;style&gt;\n",
       "                        .foliumtooltip {\n",
       "                            \n",
       "                        }\n",
       "                       .foliumtooltip table{\n",
       "                            margin: auto;\n",
       "                        }\n",
       "                        .foliumtooltip tr{\n",
       "                            text-align: left;\n",
       "                        }\n",
       "                        .foliumtooltip th{\n",
       "                            padding: 2px; padding-right: 8px;\n",
       "                        }\n",
       "                    &lt;/style&gt;\n",
       "            \n",
       "&lt;/head&gt;\n",
       "&lt;body&gt;\n",
       "    \n",
       "    \n",
       "            &lt;div class=&quot;folium-map&quot; id=&quot;map_b64a916ee89d90ac32b1e9f36d2a6c80&quot; &gt;&lt;/div&gt;\n",
       "        \n",
       "&lt;/body&gt;\n",
       "&lt;script&gt;\n",
       "    \n",
       "    \n",
       "            var map_b64a916ee89d90ac32b1e9f36d2a6c80 = L.map(\n",
       "                &quot;map_b64a916ee89d90ac32b1e9f36d2a6c80&quot;,\n",
       "                {\n",
       "                    center: [51.165691, 10.451526],\n",
       "                    crs: L.CRS.EPSG3857,\n",
       "                    zoom: 5,\n",
       "                    zoomControl: true,\n",
       "                    preferCanvas: false,\n",
       "                }\n",
       "            );\n",
       "            L.control.scale().addTo(map_b64a916ee89d90ac32b1e9f36d2a6c80);\n",
       "\n",
       "            \n",
       "\n",
       "        \n",
       "    \n",
       "            var tile_layer_b0d7e5c36188d40434b64eb8b576bb1f = L.tileLayer(\n",
       "                &quot;https://cartodb-basemaps-{s}.global.ssl.fastly.net/light_all/{z}/{x}/{y}.png&quot;,\n",
       "                {&quot;attribution&quot;: &quot;\\u0026copy; \\u003ca target=\\&quot;_blank\\&quot; href=\\&quot;http://www.openstreetmap.org/copyright\\&quot;\\u003eOpenStreetMap\\u003c/a\\u003e contributors \\u0026copy; \\u003ca target=\\&quot;_blank\\&quot; href=\\&quot;http://cartodb.com/attributions\\&quot;\\u003eCartoDB\\u003c/a\\u003e, CartoDB \\u003ca target=\\&quot;_blank\\&quot; href =\\&quot;http://cartodb.com/attributions\\&quot;\\u003eattributions\\u003c/a\\u003e&quot;, &quot;detectRetina&quot;: false, &quot;maxNativeZoom&quot;: 18, &quot;maxZoom&quot;: 18, &quot;minZoom&quot;: 0, &quot;noWrap&quot;: false, &quot;opacity&quot;: 1, &quot;subdomains&quot;: &quot;abc&quot;, &quot;tms&quot;: false}\n",
       "            ).addTo(map_b64a916ee89d90ac32b1e9f36d2a6c80);\n",
       "        \n",
       "    \n",
       "        function geo_json_df6077c71ab9b72836ce4925ecac3abe_styler(feature) {\n",
       "            switch(feature.id) {\n",
       "                default:\n",
       "                    return {&quot;color&quot;: &quot;red&quot;, &quot;fillColor&quot;: &quot;red&quot;, &quot;fillOpacity&quot;: 0.5, &quot;weight&quot;: 2};\n",
       "            }\n",
       "        }\n",
       "        function geo_json_df6077c71ab9b72836ce4925ecac3abe_highlighter(feature) {\n",
       "            switch(feature.id) {\n",
       "                default:\n",
       "                    return {&quot;fillOpacity&quot;: 0.75};\n",
       "            }\n",
       "        }\n",
       "        function geo_json_df6077c71ab9b72836ce4925ecac3abe_pointToLayer(feature, latlng) {\n",
       "            var opts = {&quot;bubblingMouseEvents&quot;: true, &quot;color&quot;: &quot;#3388ff&quot;, &quot;dashArray&quot;: null, &quot;dashOffset&quot;: null, &quot;fill&quot;: true, &quot;fillColor&quot;: &quot;#3388ff&quot;, &quot;fillOpacity&quot;: 0.2, &quot;fillRule&quot;: &quot;evenodd&quot;, &quot;lineCap&quot;: &quot;round&quot;, &quot;lineJoin&quot;: &quot;round&quot;, &quot;opacity&quot;: 1.0, &quot;radius&quot;: 2, &quot;stroke&quot;: true, &quot;weight&quot;: 3};\n",
       "            \n",
       "            let style = geo_json_df6077c71ab9b72836ce4925ecac3abe_styler(feature)\n",
       "            Object.assign(opts, style)\n",
       "            \n",
       "            return new L.CircleMarker(latlng, opts)\n",
       "        }\n",
       "\n",
       "        function geo_json_df6077c71ab9b72836ce4925ecac3abe_onEachFeature(feature, layer) {\n",
       "            layer.on({\n",
       "                mouseout: function(e) {\n",
       "                    if(typeof e.target.setStyle === &quot;function&quot;){\n",
       "                        geo_json_df6077c71ab9b72836ce4925ecac3abe.resetStyle(e.target);\n",
       "                    }\n",
       "                },\n",
       "                mouseover: function(e) {\n",
       "                    if(typeof e.target.setStyle === &quot;function&quot;){\n",
       "                        const highlightStyle = geo_json_df6077c71ab9b72836ce4925ecac3abe_highlighter(e.target.feature)\n",
       "                        e.target.setStyle(highlightStyle);\n",
       "                    }\n",
       "                },\n",
       "            });\n",
       "        };\n",
       "        var geo_json_df6077c71ab9b72836ce4925ecac3abe = L.geoJson(null, {\n",
       "                onEachFeature: geo_json_df6077c71ab9b72836ce4925ecac3abe_onEachFeature,\n",
       "            \n",
       "                style: geo_json_df6077c71ab9b72836ce4925ecac3abe_styler,\n",
       "                pointToLayer: geo_json_df6077c71ab9b72836ce4925ecac3abe_pointToLayer\n",
       "        });\n",
       "\n",
       "        function geo_json_df6077c71ab9b72836ce4925ecac3abe_add (data) {\n",
       "            geo_json_df6077c71ab9b72836ce4925ecac3abe\n",
       "                .addData(data)\n",
       "                .addTo(map_b64a916ee89d90ac32b1e9f36d2a6c80);\n",
       "        }\n",
       "            geo_json_df6077c71ab9b72836ce4925ecac3abe_add({&quot;bbox&quot;: [6.775304317474365, 48.14097595214844, 13.705357551574707, 53.57112121582031], &quot;features&quot;: [{&quot;bbox&quot;: [10.027606010437012, 53.57112121582031, 10.027606010437012, 53.57112121582031], &quot;geometry&quot;: {&quot;coordinates&quot;: [10.027606010437012, 53.57112121582031], &quot;type&quot;: &quot;Point&quot;}, &quot;id&quot;: &quot;18&quot;, &quot;properties&quot;: {&quot;CAPITAL&quot;: &quot;N&quot;, &quot;COUNTRY&quot;: &quot;Germany&quot;, &quot;NAME&quot;: &quot;Hamburg&quot;, &quot;__folium_color&quot;: &quot;red&quot;}, &quot;type&quot;: &quot;Feature&quot;}, {&quot;bbox&quot;: [8.857625961303711, 53.08010482788086, 8.857625961303711, 53.08010482788086], &quot;geometry&quot;: {&quot;coordinates&quot;: [8.857625961303711, 53.08010482788086], &quot;type&quot;: &quot;Point&quot;}, &quot;id&quot;: &quot;23&quot;, &quot;properties&quot;: {&quot;CAPITAL&quot;: &quot;N&quot;, &quot;COUNTRY&quot;: &quot;Germany&quot;, &quot;NAME&quot;: &quot;Bremen&quot;, &quot;__folium_color&quot;: &quot;red&quot;}, &quot;type&quot;: &quot;Feature&quot;}, {&quot;bbox&quot;: [13.3275728225708, 52.516273498535156, 13.3275728225708, 52.516273498535156], &quot;geometry&quot;: {&quot;coordinates&quot;: [13.3275728225708, 52.516273498535156], &quot;type&quot;: &quot;Point&quot;}, &quot;id&quot;: &quot;24&quot;, &quot;properties&quot;: {&quot;CAPITAL&quot;: &quot;Y&quot;, &quot;COUNTRY&quot;: &quot;Germany&quot;, &quot;NAME&quot;: &quot;Berlin&quot;, &quot;__folium_color&quot;: &quot;red&quot;}, &quot;type&quot;: &quot;Feature&quot;}, {&quot;bbox&quot;: [7.466418266296387, 51.51381301879883, 7.466418266296387, 51.51381301879883], &quot;geometry&quot;: {&quot;coordinates&quot;: [7.466418266296387, 51.51381301879883], &quot;type&quot;: &quot;Point&quot;}, &quot;id&quot;: &quot;31&quot;, &quot;properties&quot;: {&quot;CAPITAL&quot;: &quot;N&quot;, &quot;COUNTRY&quot;: &quot;Germany&quot;, &quot;NAME&quot;: &quot;Dortmund&quot;, &quot;__folium_color&quot;: &quot;red&quot;}, &quot;type&quot;: &quot;Feature&quot;}, {&quot;bbox&quot;: [6.775304317474365, 51.48933792114258, 6.775304317474365, 51.48933792114258], &quot;geometry&quot;: {&quot;coordinates&quot;: [6.775304317474365, 51.48933792114258], &quot;type&quot;: &quot;Point&quot;}, &quot;id&quot;: &quot;32&quot;, &quot;properties&quot;: {&quot;CAPITAL&quot;: &quot;N&quot;, &quot;COUNTRY&quot;: &quot;Germany&quot;, &quot;NAME&quot;: &quot;Duisburg&quot;, &quot;__folium_color&quot;: &quot;red&quot;}, &quot;type&quot;: &quot;Feature&quot;}, {&quot;bbox&quot;: [7.122435092926025, 51.354042053222656, 7.122435092926025, 51.354042053222656], &quot;geometry&quot;: {&quot;coordinates&quot;: [7.122435092926025, 51.354042053222656], &quot;type&quot;: &quot;Point&quot;}, &quot;id&quot;: &quot;34&quot;, &quot;properties&quot;: {&quot;CAPITAL&quot;: &quot;N&quot;, &quot;COUNTRY&quot;: &quot;Germany&quot;, &quot;NAME&quot;: &quot;Essen&quot;, &quot;__folium_color&quot;: &quot;red&quot;}, &quot;type&quot;: &quot;Feature&quot;}, {&quot;bbox&quot;: [12.39807415008545, 51.34933090209961, 12.39807415008545, 51.34933090209961], &quot;geometry&quot;: {&quot;coordinates&quot;: [12.39807415008545, 51.34933090209961], &quot;type&quot;: &quot;Point&quot;}, &quot;id&quot;: &quot;35&quot;, &quot;properties&quot;: {&quot;CAPITAL&quot;: &quot;N&quot;, &quot;COUNTRY&quot;: &quot;Germany&quot;, &quot;NAME&quot;: &quot;Leipzig&quot;, &quot;__folium_color&quot;: &quot;red&quot;}, &quot;type&quot;: &quot;Feature&quot;}, {&quot;bbox&quot;: [13.705357551574707, 51.04568099975586, 13.705357551574707, 51.04568099975586], &quot;geometry&quot;: {&quot;coordinates&quot;: [13.705357551574707, 51.04568099975586], &quot;type&quot;: &quot;Point&quot;}, &quot;id&quot;: &quot;39&quot;, &quot;properties&quot;: {&quot;CAPITAL&quot;: &quot;N&quot;, &quot;COUNTRY&quot;: &quot;Germany&quot;, &quot;NAME&quot;: &quot;Dresden&quot;, &quot;__folium_color&quot;: &quot;red&quot;}, &quot;type&quot;: &quot;Feature&quot;}, {&quot;bbox&quot;: [6.934871673583984, 50.942344665527344, 6.934871673583984, 50.942344665527344], &quot;geometry&quot;: {&quot;coordinates&quot;: [6.934871673583984, 50.942344665527344], &quot;type&quot;: &quot;Point&quot;}, &quot;id&quot;: &quot;41&quot;, &quot;properties&quot;: {&quot;CAPITAL&quot;: &quot;N&quot;, &quot;COUNTRY&quot;: &quot;Germany&quot;, &quot;NAME&quot;: &quot;Koln&quot;, &quot;__folium_color&quot;: &quot;red&quot;}, &quot;type&quot;: &quot;Feature&quot;}, {&quot;bbox&quot;: [7.099818706512451, 50.73455810546875, 7.099818706512451, 50.73455810546875], &quot;geometry&quot;: {&quot;coordinates&quot;: [7.099818706512451, 50.73455810546875], &quot;type&quot;: &quot;Point&quot;}, &quot;id&quot;: &quot;43&quot;, &quot;properties&quot;: {&quot;CAPITAL&quot;: &quot;N&quot;, &quot;COUNTRY&quot;: &quot;Germany&quot;, &quot;NAME&quot;: &quot;Bonn&quot;, &quot;__folium_color&quot;: &quot;red&quot;}, &quot;type&quot;: &quot;Feature&quot;}, {&quot;bbox&quot;: [8.668167114257812, 50.12999725341797, 8.668167114257812, 50.12999725341797], &quot;geometry&quot;: {&quot;coordinates&quot;: [8.668167114257812, 50.12999725341797], &quot;type&quot;: &quot;Point&quot;}, &quot;id&quot;: &quot;47&quot;, &quot;properties&quot;: {&quot;CAPITAL&quot;: &quot;N&quot;, &quot;COUNTRY&quot;: &quot;Germany&quot;, &quot;NAME&quot;: &quot;Frankfurt am Main&quot;, &quot;__folium_color&quot;: &quot;red&quot;}, &quot;type&quot;: &quot;Feature&quot;}, {&quot;bbox&quot;: [11.542953491210938, 48.14097595214844, 11.542953491210938, 48.14097595214844], &quot;geometry&quot;: {&quot;coordinates&quot;: [11.542953491210938, 48.14097595214844], &quot;type&quot;: &quot;Point&quot;}, &quot;id&quot;: &quot;59&quot;, &quot;properties&quot;: {&quot;CAPITAL&quot;: &quot;N&quot;, &quot;COUNTRY&quot;: &quot;Germany&quot;, &quot;NAME&quot;: &quot;Munchen&quot;, &quot;__folium_color&quot;: &quot;red&quot;}, &quot;type&quot;: &quot;Feature&quot;}], &quot;type&quot;: &quot;FeatureCollection&quot;});\n",
       "\n",
       "        \n",
       "    \n",
       "    geo_json_df6077c71ab9b72836ce4925ecac3abe.bindTooltip(\n",
       "    function(layer){\n",
       "    let div = L.DomUtil.create(&#x27;div&#x27;);\n",
       "    \n",
       "    let handleObject = feature=&gt;typeof(feature)==&#x27;object&#x27; ? JSON.stringify(feature) : feature;\n",
       "    let fields = [&quot;NAME&quot;, &quot;COUNTRY&quot;, &quot;CAPITAL&quot;];\n",
       "    let aliases = [&quot;NAME&quot;, &quot;COUNTRY&quot;, &quot;CAPITAL&quot;];\n",
       "    let table = &#x27;&lt;table&gt;&#x27; +\n",
       "        String(\n",
       "        fields.map(\n",
       "        (v,i)=&gt;\n",
       "        `&lt;tr&gt;\n",
       "            &lt;th&gt;${aliases[i]}&lt;/th&gt;\n",
       "            \n",
       "            &lt;td&gt;${handleObject(layer.feature.properties[v])}&lt;/td&gt;\n",
       "        &lt;/tr&gt;`).join(&#x27;&#x27;))\n",
       "    +&#x27;&lt;/table&gt;&#x27;;\n",
       "    div.innerHTML=table;\n",
       "    \n",
       "    return div\n",
       "    }\n",
       "    ,{&quot;className&quot;: &quot;foliumtooltip&quot;, &quot;sticky&quot;: true});\n",
       "                     \n",
       "    \n",
       "        function geo_json_962aa83512af8daf6f56f068c6a9d6e0_styler(feature) {\n",
       "            switch(feature.id) {\n",
       "                default:\n",
       "                    return {&quot;color&quot;: &quot;blue&quot;, &quot;fillColor&quot;: &quot;blue&quot;, &quot;fillOpacity&quot;: 0.5, &quot;weight&quot;: 2};\n",
       "            }\n",
       "        }\n",
       "        function geo_json_962aa83512af8daf6f56f068c6a9d6e0_highlighter(feature) {\n",
       "            switch(feature.id) {\n",
       "                default:\n",
       "                    return {&quot;fillOpacity&quot;: 0.75};\n",
       "            }\n",
       "        }\n",
       "        function geo_json_962aa83512af8daf6f56f068c6a9d6e0_pointToLayer(feature, latlng) {\n",
       "            var opts = {&quot;bubblingMouseEvents&quot;: true, &quot;color&quot;: &quot;#3388ff&quot;, &quot;dashArray&quot;: null, &quot;dashOffset&quot;: null, &quot;fill&quot;: true, &quot;fillColor&quot;: &quot;#3388ff&quot;, &quot;fillOpacity&quot;: 0.2, &quot;fillRule&quot;: &quot;evenodd&quot;, &quot;lineCap&quot;: &quot;round&quot;, &quot;lineJoin&quot;: &quot;round&quot;, &quot;opacity&quot;: 1.0, &quot;radius&quot;: 2, &quot;stroke&quot;: true, &quot;weight&quot;: 3};\n",
       "            \n",
       "            let style = geo_json_962aa83512af8daf6f56f068c6a9d6e0_styler(feature)\n",
       "            Object.assign(opts, style)\n",
       "            \n",
       "            return new L.CircleMarker(latlng, opts)\n",
       "        }\n",
       "\n",
       "        function geo_json_962aa83512af8daf6f56f068c6a9d6e0_onEachFeature(feature, layer) {\n",
       "            layer.on({\n",
       "                mouseout: function(e) {\n",
       "                    if(typeof e.target.setStyle === &quot;function&quot;){\n",
       "                        geo_json_962aa83512af8daf6f56f068c6a9d6e0.resetStyle(e.target);\n",
       "                    }\n",
       "                },\n",
       "                mouseover: function(e) {\n",
       "                    if(typeof e.target.setStyle === &quot;function&quot;){\n",
       "                        const highlightStyle = geo_json_962aa83512af8daf6f56f068c6a9d6e0_highlighter(e.target.feature)\n",
       "                        e.target.setStyle(highlightStyle);\n",
       "                    }\n",
       "                },\n",
       "            });\n",
       "        };\n",
       "        var geo_json_962aa83512af8daf6f56f068c6a9d6e0 = L.geoJson(null, {\n",
       "                onEachFeature: geo_json_962aa83512af8daf6f56f068c6a9d6e0_onEachFeature,\n",
       "            \n",
       "                style: geo_json_962aa83512af8daf6f56f068c6a9d6e0_styler,\n",
       "                pointToLayer: geo_json_962aa83512af8daf6f56f068c6a9d6e0_pointToLayer\n",
       "        });\n",
       "\n",
       "        function geo_json_962aa83512af8daf6f56f068c6a9d6e0_add (data) {\n",
       "            geo_json_962aa83512af8daf6f56f068c6a9d6e0\n",
       "                .addData(data)\n",
       "                .addTo(map_b64a916ee89d90ac32b1e9f36d2a6c80);\n",
       "        }\n",
       "            geo_json_962aa83512af8daf6f56f068c6a9d6e0_add({&quot;bbox&quot;: [6.426934544082183, 47.5383765269129, 13.801372678942556, 51.85182439967664], &quot;features&quot;: [{&quot;bbox&quot;: [8.38960075378418, 47.99980545043945, 13.801372678942556, 49.08389663696289], &quot;geometry&quot;: {&quot;coordinates&quot;: [[[8.737342834472656, 47.99980545043945], [9.560155868530273, 48.13118362426758], [11.070987701416016, 48.79256820678711], [11.954597473144531, 48.89090347290039], [12.243537902832031, 49.08389663696289], [13.801372678942556, 48.580584777829834]], [[8.505426406860352, 48.180355072021484], [8.737342834472656, 47.99980545043945]], [[8.38960075378418, 48.14701461791992], [8.737342834472656, 47.99980545043945]]], &quot;type&quot;: &quot;MultiLineString&quot;}, &quot;id&quot;: &quot;14&quot;, &quot;properties&quot;: {&quot;NAME&quot;: &quot;Danube&quot;, &quot;SYSTEM&quot;: null, &quot;__folium_color&quot;: &quot;blue&quot;}, &quot;type&quot;: &quot;Feature&quot;}, {&quot;bbox&quot;: [6.426934544082183, 47.5383765269129, 9.723279631032092, 51.85182439967664], &quot;geometry&quot;: {&quot;coordinates&quot;: [[[6.426934544082183, 51.85182439967664], [6.887657642364502, 51.637020111083984], [6.867930889129639, 51.41591262817383], [7.1901535987854, 50.90896224975586], [7.822350025177002, 50.44651412963867], [7.934040546417236, 50.175907135009766], [8.431541442871094, 50.09507369995117], [8.685708999633789, 49.82979202270508], [8.567647933959961, 49.73896408081055], [8.696542739868164, 49.352848052978516], [8.362061500549316, 48.99561309814453], [7.932741641998291, 48.632591247558594], [7.908243179321289, 48.53654861450195], [7.88430643081665, 48.37549591064453], [7.739692211151123, 48.208309173583984], [7.7058000564575195, 48.07524490356445], [7.746782302856445, 48.041202545166016], [7.649627208709717, 47.725765228271484], [7.710245609283447, 47.62067794799805], [7.832072734832764, 47.580501556396484], [7.954710483551025, 47.63303756713867], [8.076324462890625, 47.58977127075195], [8.331659317016602, 47.66085433959961], [8.4567232131958, 47.61140823364258], [8.4827144767919, 47.61292170733213]], [[8.563173996612655, 47.61760687263285], [8.604201841369111, 47.619995927837806]], [[8.60901336938853, 47.628388887021444], [8.573679921754996, 47.667869401649185]], [[8.725218016868913, 47.763608390959554], [8.854499816894531, 47.79996109008789], [8.862229347229004, 47.7319450378418], [8.951669692993164, 47.738136291503906], [9.019049644470215, 47.69794464111328], [9.4022216796875, 47.69485855102539], [9.700788497924805, 47.57741165161133], [9.723279631032092, 47.5383765269129]]], &quot;type&quot;: &quot;MultiLineString&quot;}, &quot;id&quot;: &quot;61&quot;, &quot;properties&quot;: {&quot;NAME&quot;: &quot;Rhine&quot;, &quot;SYSTEM&quot;: null, &quot;__folium_color&quot;: &quot;blue&quot;}, &quot;type&quot;: &quot;Feature&quot;}], &quot;type&quot;: &quot;FeatureCollection&quot;});\n",
       "\n",
       "        \n",
       "    \n",
       "    geo_json_962aa83512af8daf6f56f068c6a9d6e0.bindTooltip(\n",
       "    function(layer){\n",
       "    let div = L.DomUtil.create(&#x27;div&#x27;);\n",
       "    \n",
       "    let handleObject = feature=&gt;typeof(feature)==&#x27;object&#x27; ? JSON.stringify(feature) : feature;\n",
       "    let fields = [&quot;NAME&quot;, &quot;SYSTEM&quot;];\n",
       "    let aliases = [&quot;NAME&quot;, &quot;SYSTEM&quot;];\n",
       "    let table = &#x27;&lt;table&gt;&#x27; +\n",
       "        String(\n",
       "        fields.map(\n",
       "        (v,i)=&gt;\n",
       "        `&lt;tr&gt;\n",
       "            &lt;th&gt;${aliases[i]}&lt;/th&gt;\n",
       "            \n",
       "            &lt;td&gt;${handleObject(layer.feature.properties[v])}&lt;/td&gt;\n",
       "        &lt;/tr&gt;`).join(&#x27;&#x27;))\n",
       "    +&#x27;&lt;/table&gt;&#x27;;\n",
       "    div.innerHTML=table;\n",
       "    \n",
       "    return div\n",
       "    }\n",
       "    ,{&quot;className&quot;: &quot;foliumtooltip&quot;, &quot;sticky&quot;: true});\n",
       "                     \n",
       "    \n",
       "            var layer_control_84cc5a029c9c8d449a69c61adab70a12 = {\n",
       "                base_layers : {\n",
       "                    &quot;cartodbpositron&quot; : tile_layer_b0d7e5c36188d40434b64eb8b576bb1f,\n",
       "                },\n",
       "                overlays :  {\n",
       "                    &quot;cities&quot; : geo_json_df6077c71ab9b72836ce4925ecac3abe,\n",
       "                    &quot;rivers&quot; : geo_json_962aa83512af8daf6f56f068c6a9d6e0,\n",
       "                },\n",
       "            };\n",
       "            L.control.layers(\n",
       "                layer_control_84cc5a029c9c8d449a69c61adab70a12.base_layers,\n",
       "                layer_control_84cc5a029c9c8d449a69c61adab70a12.overlays,\n",
       "                {&quot;autoZIndex&quot;: true, &quot;collapsed&quot;: true, &quot;position&quot;: &quot;topright&quot;}\n",
       "            ).addTo(map_b64a916ee89d90ac32b1e9f36d2a6c80);\n",
       "        \n",
       "&lt;/script&gt;\n",
       "&lt;/html&gt;\" style=\"position:absolute;width:100%;height:100%;left:0;top:0;border:none !important;\" allowfullscreen webkitallowfullscreen mozallowfullscreen></iframe></div></div>"
      ],
      "text/plain": [
       "<folium.folium.Map at 0x2553f143310>"
      ]
     },
     "execution_count": 30,
     "metadata": {},
     "output_type": "execute_result"
    }
   ],
   "source": [
    "import folium\n",
    "m = cities_alemania.explore(location=alemaniaCoord,\n",
    "                   zoom_start=5,#zoom\n",
    "                   tiles='CartoDB positron',\n",
    "                   color='red',\n",
    "                   name=\"cities\") \n",
    "m = rivers_alemania.explore(m=m, color=\"blue\",\n",
    "                   name=\"rivers\")\n",
    "folium.LayerControl().add_to(m)\n",
    "m"
   ]
  },
  {
   "cell_type": "code",
   "execution_count": null,
   "id": "79a67823",
   "metadata": {},
   "outputs": [],
   "source": [
    "#ONCEAVO: Se reproyecta el CRS para obtener cordenadas, se usa este link: https://epsg.io/?q=Germany"
   ]
  },
  {
   "cell_type": "code",
   "execution_count": null,
   "id": "ba6a36b4",
   "metadata": {},
   "outputs": [],
   "source": []
  }
 ],
 "metadata": {
  "kernelspec": {
   "display_name": "Python 3 (ipykernel)",
   "language": "python",
   "name": "python3"
  },
  "language_info": {
   "codemirror_mode": {
    "name": "ipython",
    "version": 3
   },
   "file_extension": ".py",
   "mimetype": "text/x-python",
   "name": "python",
   "nbconvert_exporter": "python",
   "pygments_lexer": "ipython3",
   "version": "3.11.5"
  }
 },
 "nbformat": 4,
 "nbformat_minor": 5
}
